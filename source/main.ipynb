{
 "cells": [
  {
   "cell_type": "code",
   "execution_count": 1,
   "metadata": {},
   "outputs": [],
   "source": [
    "from GlassdoorBot import GlassdoorBot\n",
    "import pandas as pd\n",
    "from time import sleep"
   ]
  },
  {
   "cell_type": "markdown",
   "metadata": {},
   "source": [
    "# Sueldos Data Scientist Madrid\n",
    "\n",
    "En total hay 121 páginas para scrapear data scientist en Madrid:"
   ]
  },
  {
   "cell_type": "code",
   "execution_count": null,
   "metadata": {},
   "outputs": [],
   "source": [
    "# Inicializar bot\n",
    "bot = GlassdoorBot(email=\"REDACTED_EMAIL\", password=\"REDACTED_PASSWORD\", headless=True)\n",
    "\n",
    "# Navegar directamente a la página de salarios\n",
    "url = \"https://www.glassdoor.es/Salaries/madrid-spain-data-scientist-salary-SRCH_IL.0,12_IM1030_KO13,27.htm?countryRedirect=true\"\n",
    "bot.driver.get(url)\n",
    "\n",
    "# Esperar por carga\n",
    "sleep(5)\n",
    "\n",
    "# Ejecutar scraping múltiples paginas\n",
    "raw_data = bot.scrape_all_pages(max_pages=121)\n",
    "            \n",
    "# Guardar en un DataFrame y exportar a CSV\n",
    "df = pd.DataFrame(raw_data)\n",
    "df['city'] = \"Madrid\"\n",
    "\n",
    "df.to_csv(\"../dataset/partitions/data_scientist_salaries_madrid.csv\", index=False, sep=';')\n",
    "\n",
    "print(\"Scraping completado. Datos guardados en la carpeta dataset.\")\n",
    "\n",
    "# Cerrar el navegador\n",
    "bot.driver.quit()"
   ]
  },
  {
   "cell_type": "markdown",
   "metadata": {},
   "source": [
    "----"
   ]
  },
  {
   "cell_type": "markdown",
   "metadata": {},
   "source": [
    "# Sueldos Data Scientist Barcelona\n",
    "\n",
    "En total hay 37 páginas para scrapear data scientist en Barcelona:"
   ]
  },
  {
   "cell_type": "code",
   "execution_count": null,
   "metadata": {},
   "outputs": [
    {
     "name": "stdout",
     "output_type": "stream",
     "text": [
      "Mozilla/5.0 (Macintosh; Intel Mac OS X 10_15_7) AppleWebKit/605.1.15 (KHTML, like Gecko) Version/16.6 Safari/605.1.15\n",
      "Escrapeando página 1...\n",
      "✅ Banner de cookies cerrado.\n",
      "✅ Email insertado con éxito.\n",
      "✅ Botón de continuar pulsado con éxito.\n",
      "✅ Contraseña insertada con éxito.\n",
      "✅ Botón de login pulsado con éxito.\n",
      "Escrapeando página 2...\n",
      "Escrapeando página 3...\n",
      "Escrapeando página 4...\n",
      "Escrapeando página 5...\n",
      "Escrapeando página 6...\n",
      "Escrapeando página 7...\n",
      "Escrapeando página 8...\n",
      "Escrapeando página 9...\n",
      "Escrapeando página 10...\n",
      "Escrapeando página 11...\n",
      "Escrapeando página 12...\n",
      "Escrapeando página 13...\n",
      "Escrapeando página 14...\n",
      "Escrapeando página 15...\n",
      "Escrapeando página 16...\n",
      "Escrapeando página 17...\n",
      "Escrapeando página 18...\n",
      "Escrapeando página 19...\n",
      "Escrapeando página 20...\n",
      "Escrapeando página 21...\n",
      "Escrapeando página 22...\n",
      "Escrapeando página 23...\n",
      "Escrapeando página 24...\n",
      "Escrapeando página 25...\n",
      "Escrapeando página 26...\n",
      "Escrapeando página 27...\n",
      "Escrapeando página 28...\n",
      "Escrapeando página 29...\n",
      "Escrapeando página 30...\n",
      "Escrapeando página 31...\n",
      "Escrapeando página 32...\n",
      "Escrapeando página 33...\n",
      "Escrapeando página 34...\n",
      "Escrapeando página 35...\n",
      "Escrapeando página 36...\n",
      "Escrapeando página 37...\n",
      "Scraping completado. Datos guardados en la carpeta dataset.\n"
     ]
    }
   ],
   "source": [
    "# Inicializar bot\n",
    "bot = GlassdoorBot(email=\"REDACTED_EMAIL\", password=\"REDACTED_PASSWORD\", headless=True)\n",
    "\n",
    "# Navegar directamente a la página de salarios\n",
    "url = \"https://www.glassdoor.es/Salaries/barcelona-spain-data-scientist-salary-SRCH_IL.0,15_IM1015_KO16,30.htm?countryRedirect=true\"\n",
    "bot.driver.get(url)\n",
    "\n",
    "# Esperar por carga\n",
    "sleep(5)\n",
    "\n",
    "# Ejecutar scraping múltiples paginas\n",
    "raw_data = bot.scrape_all_pages(max_pages=37)\n",
    "            \n",
    "# Guardar en un DataFrame y exportar a CSV\n",
    "df = pd.DataFrame(raw_data)\n",
    "df['city'] = \"Barcelona\"\n",
    "\n",
    "df.to_csv(\"../dataset/partitions/data_scientist_salaries_barcelona.csv\", index=False, sep=';')\n",
    "\n",
    "print(\"Scraping completado. Datos guardados en la carpeta dataset.\")\n",
    "\n",
    "# Cerrar el navegador\n",
    "bot.driver.quit()"
   ]
  },
  {
   "cell_type": "markdown",
   "metadata": {},
   "source": [
    "----"
   ]
  },
  {
   "cell_type": "markdown",
   "metadata": {},
   "source": [
    "# Sueldos Data Analyst en Madrid\n",
    "\n",
    "En total hay 28 páginas para scrapear data scientist en Madrid:"
   ]
  },
  {
   "cell_type": "code",
   "execution_count": null,
   "metadata": {},
   "outputs": [
    {
     "name": "stdout",
     "output_type": "stream",
     "text": [
      "Mozilla/5.0 (Windows NT 10.0; Win64; x64) AppleWebKit/537.36 (KHTML, like Gecko) Chrome/133.0.0.0 Safari/537.36 Edg/133.0.0.0\n",
      "Escrapeando página 1...\n",
      "✅ Banner de cookies cerrado.\n",
      "✅ Email insertado con éxito.\n",
      "✅ Botón de continuar pulsado con éxito.\n",
      "✅ Contraseña insertada con éxito.\n",
      "✅ Botón de login pulsado con éxito.\n",
      "Escrapeando página 2...\n",
      "Escrapeando página 3...\n",
      "Escrapeando página 4...\n",
      "Escrapeando página 5...\n",
      "Escrapeando página 6...\n",
      "Escrapeando página 7...\n",
      "Escrapeando página 8...\n",
      "Escrapeando página 9...\n",
      "Escrapeando página 10...\n",
      "Escrapeando página 11...\n",
      "Escrapeando página 12...\n",
      "Escrapeando página 13...\n",
      "Escrapeando página 14...\n",
      "Escrapeando página 15...\n",
      "Escrapeando página 16...\n",
      "Escrapeando página 17...\n",
      "Escrapeando página 18...\n",
      "Escrapeando página 19...\n",
      "Escrapeando página 20...\n",
      "Escrapeando página 21...\n",
      "Escrapeando página 22...\n",
      "Escrapeando página 23...\n",
      "Escrapeando página 24...\n",
      "Escrapeando página 25...\n",
      "Escrapeando página 26...\n",
      "Escrapeando página 27...\n",
      "Escrapeando página 28...\n",
      "Scraping completado. Datos guardados en la carpeta dataset.\n"
     ]
    }
   ],
   "source": [
    "# Inicializar bot\n",
    "bot = GlassdoorBot(email=\"REDACTED_EMAIL\", password=\"REDACTED_PASSWORD\", headless=True)\n",
    "\n",
    "# Navegar directamente a la página de salarios\n",
    "url = \"https://www.glassdoor.es/Salaries/madrid-spain-data-analyst-salary-SRCH_IL.0,12_IM1030_KO13,25.htm?countryRedirect=true\"\n",
    "bot.driver.get(url)\n",
    "\n",
    "# Esperar por carga\n",
    "sleep(5)\n",
    "\n",
    "# Ejecutar scraping múltiples paginas\n",
    "raw_data = bot.scrape_all_pages(max_pages=28)\n",
    "            \n",
    "# Guardar en un DataFrame y exportar a CSV\n",
    "df = pd.DataFrame(raw_data)\n",
    "df['city'] = \"Madrid\"\n",
    "\n",
    "df.to_csv(\"../dataset/partitions/data_analyst_salaries_madrid.csv\", index=False, sep=';')\n",
    "\n",
    "print(\"Scraping completado. Datos guardados en la carpeta dataset.\")\n",
    "\n",
    "# Cerrar el navegador\n",
    "bot.driver.quit()"
   ]
  },
  {
   "cell_type": "markdown",
   "metadata": {},
   "source": [
    "----"
   ]
  },
  {
   "cell_type": "markdown",
   "metadata": {},
   "source": [
    "# Sueldos Data Analyst en Barcelona\n",
    "\n",
    "En total hay 26 páginas para scrapear data analyst en Barcelona:"
   ]
  },
  {
   "cell_type": "code",
   "execution_count": null,
   "metadata": {
    "scrolled": true
   },
   "outputs": [
    {
     "name": "stdout",
     "output_type": "stream",
     "text": [
      "Mozilla/5.0 (Windows NT 10.0; Win64; x64) AppleWebKit/537.36 (KHTML, like Gecko) Chrome/133.0.0.0 Safari/537.36 Edg/133.0.0.0\n",
      "Escrapeando página 1...\n",
      "✅ Banner de cookies cerrado.\n",
      "✅ Email insertado con éxito.\n",
      "✅ Botón de continuar pulsado con éxito.\n",
      "✅ Contraseña insertada con éxito.\n",
      "✅ Botón de login pulsado con éxito.\n",
      "Escrapeando página 2...\n",
      "Escrapeando página 3...\n",
      "Escrapeando página 4...\n",
      "Escrapeando página 5...\n",
      "Escrapeando página 6...\n",
      "Escrapeando página 7...\n",
      "Escrapeando página 8...\n",
      "Escrapeando página 9...\n",
      "Escrapeando página 10...\n",
      "Escrapeando página 11...\n",
      "Escrapeando página 12...\n",
      "Escrapeando página 13...\n",
      "Escrapeando página 14...\n",
      "Escrapeando página 15...\n",
      "Escrapeando página 16...\n",
      "Escrapeando página 17...\n",
      "Escrapeando página 18...\n",
      "Escrapeando página 19...\n",
      "Escrapeando página 20...\n",
      "Escrapeando página 21...\n",
      "Escrapeando página 22...\n",
      "Escrapeando página 23...\n",
      "Escrapeando página 24...\n",
      "Escrapeando página 25...\n",
      "Escrapeando página 26...\n",
      "Scraping completado. Datos guardados en la carpeta dataset.\n"
     ]
    }
   ],
   "source": [
    "# Inicializar bot\n",
    "bot = GlassdoorBot(email=\"REDACTED_EMAIL\", password=\"REDACTED_PASSWORD\", headless=True)\n",
    "\n",
    "# Navegar directamente a la página de salarios\n",
    "url = \"https://www.glassdoor.es/Salaries/barcelona-spain-data-analyst-salary-SRCH_IL.0,15_IM1015_KO16,28.htm?countryRedirect=true\"\n",
    "bot.driver.get(url)\n",
    "\n",
    "# Esperar por carga\n",
    "sleep(5)\n",
    "\n",
    "# Ejecutar scraping múltiples paginas\n",
    "raw_data = bot.scrape_all_pages(max_pages=26)\n",
    "            \n",
    "# Guardar en un DataFrame y exportar a CSV\n",
    "df = pd.DataFrame(raw_data)\n",
    "df['city'] = \"Barcelona\"\n",
    "\n",
    "df.to_csv(\"../dataset/partitions/data_analyst_salaries_barcelona.csv\", index=False, sep=';')\n",
    "\n",
    "print(\"Scraping completado. Datos guardados en la carpeta dataset.\")\n",
    "\n",
    "# Cerrar el navegador\n",
    "bot.driver.quit()"
   ]
  },
  {
   "cell_type": "markdown",
   "metadata": {},
   "source": [
    "----"
   ]
  },
  {
   "cell_type": "markdown",
   "metadata": {},
   "source": [
    "# Sueldos Data Engineer Madrid\n",
    "\n",
    "En total hay 43 páginas para scrapear data engineer en Madrid:"
   ]
  },
  {
   "cell_type": "code",
   "execution_count": null,
   "metadata": {},
   "outputs": [
    {
     "name": "stdout",
     "output_type": "stream",
     "text": [
      "Mozilla/5.0 (Windows NT 10.0; Win64; x64) AppleWebKit/537.36 (KHTML, like Gecko) Chrome/133.0.0.0 Safari/537.36\n",
      "Escrapeando página 1...\n",
      "✅ Banner de cookies cerrado.\n",
      "✅ Email insertado con éxito.\n",
      "✅ Botón de continuar pulsado con éxito.\n",
      "✅ Contraseña insertada con éxito.\n",
      "✅ Botón de login pulsado con éxito.\n",
      "Escrapeando página 2...\n",
      "Escrapeando página 3...\n",
      "Escrapeando página 4...\n",
      "Escrapeando página 5...\n",
      "Escrapeando página 6...\n",
      "Escrapeando página 7...\n",
      "Escrapeando página 8...\n",
      "Escrapeando página 9...\n",
      "Escrapeando página 10...\n",
      "Escrapeando página 11...\n",
      "Escrapeando página 12...\n",
      "Escrapeando página 13...\n",
      "Escrapeando página 14...\n",
      "Escrapeando página 15...\n",
      "Escrapeando página 16...\n",
      "Escrapeando página 17...\n",
      "Escrapeando página 18...\n",
      "Escrapeando página 19...\n",
      "Escrapeando página 20...\n",
      "Escrapeando página 21...\n",
      "Escrapeando página 22...\n",
      "Escrapeando página 23...\n",
      "Escrapeando página 24...\n",
      "Escrapeando página 25...\n",
      "Escrapeando página 26...\n",
      "Escrapeando página 27...\n",
      "Escrapeando página 28...\n",
      "Escrapeando página 29...\n",
      "Escrapeando página 30...\n",
      "Escrapeando página 31...\n",
      "Escrapeando página 32...\n",
      "Escrapeando página 33...\n",
      "Escrapeando página 34...\n",
      "Escrapeando página 35...\n",
      "Escrapeando página 36...\n",
      "Escrapeando página 37...\n",
      "Escrapeando página 38...\n",
      "Escrapeando página 39...\n",
      "Escrapeando página 40...\n",
      "Escrapeando página 41...\n",
      "Escrapeando página 42...\n",
      "Escrapeando página 43...\n",
      "Scraping completado. Datos guardados en la carpeta dataset.\n"
     ]
    }
   ],
   "source": [
    "# Inicializar bot\n",
    "bot = GlassdoorBot(email=\"REDACTED_EMAIL\", password=\"REDACTED_PASSWORD\", headless=True)\n",
    "\n",
    "# Navegar directamente a la página de salarios\n",
    "url = \"https://www.glassdoor.es/Salaries/madrid-spain-data-engineer-salary-SRCH_IL.0,12_IM1030_KO13,26.htm?countryRedirect=true\"\n",
    "bot.driver.get(url)\n",
    "\n",
    "# Esperar por carga\n",
    "sleep(10)\n",
    "\n",
    "# Ejecutar scraping múltiples paginas\n",
    "raw_data = bot.scrape_all_pages(max_pages=43)\n",
    "            \n",
    "# Guardar en un DataFrame y exportar a CSV\n",
    "df = pd.DataFrame(raw_data)\n",
    "df['city'] = \"Madrid\"\n",
    "\n",
    "df.to_csv(\"../dataset/partitions/data_engineer_salaries_madrid.csv\", index=False, sep=';')\n",
    "\n",
    "print(\"Scraping completado. Datos guardados en la carpeta dataset.\")\n",
    "\n",
    "# Cerrar el navegador\n",
    "bot.driver.quit()"
   ]
  },
  {
   "cell_type": "markdown",
   "metadata": {},
   "source": [
    "----"
   ]
  },
  {
   "cell_type": "markdown",
   "metadata": {},
   "source": [
    "# Sueldos Data Engineer Barcelona\n",
    "\n",
    "En total hay 24 páginas para scrapear data engineer en Barcelona:"
   ]
  },
  {
   "cell_type": "code",
   "execution_count": null,
   "metadata": {},
   "outputs": [
    {
     "name": "stdout",
     "output_type": "stream",
     "text": [
      "Mozilla/5.0 (Windows NT 10.0; Win64; x64) AppleWebKit/537.36 (KHTML, like Gecko) Chrome/133.0.0.0 Safari/537.36 Edg/133.0.0.0\n",
      "Escrapeando página 1...\n",
      "✅ Banner de cookies cerrado.\n",
      "✅ Email insertado con éxito.\n",
      "✅ Botón de continuar pulsado con éxito.\n",
      "✅ Contraseña insertada con éxito.\n",
      "✅ Botón de login pulsado con éxito.\n",
      "Escrapeando página 2...\n",
      "Escrapeando página 3...\n",
      "Escrapeando página 4...\n",
      "Escrapeando página 5...\n",
      "Escrapeando página 6...\n",
      "Escrapeando página 7...\n",
      "Escrapeando página 8...\n",
      "Escrapeando página 9...\n",
      "Escrapeando página 10...\n",
      "Escrapeando página 11...\n",
      "Escrapeando página 12...\n",
      "Escrapeando página 13...\n",
      "Escrapeando página 14...\n",
      "Escrapeando página 15...\n",
      "Escrapeando página 16...\n",
      "Escrapeando página 17...\n",
      "Escrapeando página 18...\n",
      "Escrapeando página 19...\n",
      "Escrapeando página 20...\n",
      "Escrapeando página 21...\n",
      "Escrapeando página 22...\n",
      "Escrapeando página 23...\n",
      "Escrapeando página 24...\n",
      "Scraping completado. Datos guardados en la carpeta dataset.\n"
     ]
    }
   ],
   "source": [
    "# Inicializar bot\n",
    "bot = GlassdoorBot(email=\"REDACTED_EMAIL\", password=\"REDACTED_PASSWORD\", headless=False)\n",
    "\n",
    "# Navegar directamente a la página de salarios\n",
    "url = \"https://www.glassdoor.es/Sueldos/barcelona-data-engineer-sueldo-SRCH_IL.0,9_IC2547194_KO10,23.htm\"\n",
    "bot.driver.get(url)\n",
    "\n",
    "# Esperar por carga\n",
    "sleep(10)\n",
    "\n",
    "# Ejecutar scraping múltiples paginas\n",
    "raw_data = bot.scrape_all_pages(max_pages=24)\n",
    "            \n",
    "# Guardar en un DataFrame y exportar a CSV\n",
    "df = pd.DataFrame(raw_data)\n",
    "df['city'] = \"Barcelona\"\n",
    "\n",
    "df.to_csv(\"../dataset/partitions/data_engineer_salaries_barcelona.csv\", index=False, sep=';')\n",
    "\n",
    "print(\"Scraping completado. Datos guardados en la carpeta dataset.\")\n",
    "\n",
    "# Cerrar el navegador\n",
    "bot.driver.quit()"
   ]
  },
  {
   "cell_type": "markdown",
   "metadata": {},
   "source": [
    "----"
   ]
  },
  {
   "cell_type": "markdown",
   "metadata": {},
   "source": [
    "# Unión de todos los datasets"
   ]
  },
  {
   "cell_type": "code",
   "execution_count": null,
   "metadata": {},
   "outputs": [],
   "source": [
    "df_da_madrid = pd.read_csv(\"../dataset/partitions/data_analyst_salaries_madrid.csv\", sep=';')\n",
    "df_ds_madrid = pd.read_csv(\"../dataset/partitions/data_scientist_salaries_madrid.csv\", sep=';')\n",
    "df_de_madrid = pd.read_csv(\"../dataset/partitions/data_engineer_salaries_madrid.csv\", sep=';')\n",
    "df_da_barcelona = pd.read_csv(\"../dataset/partitions/data_analyst_salaries_barcelona.csv\", sep=';')\n",
    "df_ds_barcelona = pd.read_csv(\"../dataset/partitions/data_scientist_salaries_barcelona.csv\", sep=';')\n",
    "df_de_barcelona = pd.read_csv(\"../dataset/partitions/data_engineer_salaries_barcelona.csv\", sep=';')\n"
   ]
  },
  {
   "cell_type": "code",
   "execution_count": null,
   "metadata": {},
   "outputs": [],
   "source": [
    "# Unión de datasets\n",
    "df_data_salaries_mad_bcn = pd.concat([\n",
    "    df_da_madrid,\n",
    "    df_ds_madrid,\n",
    "    df_de_madrid,\n",
    "    df_da_barcelona,\n",
    "    df_ds_barcelona,\n",
    "    df_de_barcelona\n",
    "], ignore_index=True)\n",
    "\n",
    "# Guardamos nuestro dataset final\n",
    "df_data_salaries_mad_bcn.to_csv(\"../dataset/data_salaries_spain.csv\", index=False, sep=';')"
   ]
  },
  {
   "cell_type": "code",
   "execution_count": null,
   "metadata": {},
   "outputs": [],
   "source": []
  }
 ],
 "metadata": {
  "kernelspec": {
   "display_name": "venv_scraper",
   "language": "python",
   "name": "python3"
  },
  "language_info": {
   "codemirror_mode": {
    "name": "ipython",
    "version": 3
   },
   "file_extension": ".py",
   "mimetype": "text/x-python",
   "name": "python",
   "nbconvert_exporter": "python",
   "pygments_lexer": "ipython3",
   "version": "3.11.9"
  }
 },
 "nbformat": 4,
 "nbformat_minor": 2
}
